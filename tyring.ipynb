{
 "cells": [
  {
   "cell_type": "code",
   "execution_count": null,
   "metadata": {},
   "outputs": [],
   "source": []
  },
  {
   "cell_type": "markdown",
   "metadata": {},
   "source": [
    "Based on the Monte Carlo Simulation, after 1 year, the mean final price for META stock based on the given data will be \\$301.35. Furthermore, 99 percent confidence that the stock price will not fall below \\$287.25, with a VaR (potential loss) of \\$13.23."
   ]
  }
 ],
 "metadata": {
  "language_info": {
   "name": "python"
  }
 },
 "nbformat": 4,
 "nbformat_minor": 2
}
